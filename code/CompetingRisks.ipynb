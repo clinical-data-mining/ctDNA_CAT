{
 "cells": [
  {
   "cell_type": "code",
   "execution_count": 9,
   "id": "e015df13-1890-45a2-8c59-8efe40de554f",
   "metadata": {},
   "outputs": [],
   "source": [
    "install.packages('cmprsk',lib='Rlib')\n",
    "install.packages(\"survivalROC\",lib='Rlib')"
   ]
  },
  {
   "cell_type": "code",
   "execution_count": 99,
   "id": "3015fb1c-5101-446f-b4cf-c598ac7d1b66",
   "metadata": {},
   "outputs": [],
   "source": [
    "library(cmprsk,lib='Rlib')\n",
    "library(data.table)\n",
    "library(dplyr)\n",
    "library(survivalROC,lib='Rlib')"
   ]
  },
  {
   "cell_type": "code",
   "execution_count": 88,
   "id": "616eaa49-9167-4810-8a66-29533302fb05",
   "metadata": {},
   "outputs": [],
   "source": [
    "# load primary data\n",
    "vte <- read.csv(\"data/xs_VTE_main_processed.csv\", header=TRUE)\n",
    "logical_columns <- sapply(vte, function(x) all(x %in% c(\"True\", \"False\")))\n",
    "vte <- vte %>%\n",
    "  mutate_at(vars(names(logical_columns)[logical_columns]), ~ ifelse(. == \"True\", TRUE, FALSE))\n",
    "vte$CAT_DEATH_ENDPT[vte$CAT_DEATH_ENDPT=='False'] <- 0\n",
    "vte$CAT_DEATH_ENDPT[vte$CAT_DEATH_ENDPT=='True'] <- 1\n",
    "vte$CAT_DEATH_ENDPT[vte$CAT_DEATH_ENDPT=='2'] <- 2\n",
    "                          \n",
    "vte2 <- read.csv(\"data/vte2_main.csv\", header=TRUE)\n",
    "vte2$CAT_DEATH_ENDPT[vte2$CAT_DEATH_ENDPT=='False'] <- 0\n",
    "vte2$CAT_DEATH_ENDPT[vte2$CAT_DEATH_ENDPT=='True'] <- 1\n",
    "vte2$CAT_DEATH_ENDPT[vte2$CAT_DEATH_ENDPT=='2'] <- 2\n",
    "logical_columns <- sapply(vte2, function(x) all(x %in% c(\"True\", \"False\")))\n",
    "vte2 <- vte2 %>%\n",
    "  mutate_at(vars(names(logical_columns)[logical_columns]), ~ ifelse(. == \"True\", TRUE, FALSE))\n",
    "\n",
    "resbio_VTE <- read.csv('data/resbio_VTE_processed.csv', header=TRUE)\n",
    "resbio_VTE$X.ctDNA<-resbio_VTE$X.ctDNA=='True'\n",
    "sydney <- read.csv('data/sydney_processed.csv', header=TRUE)\n",
    "sydney$X.ctDNA<-sydney$X.ctDNA=='True'\n",
    "resbio_all <- rbindlist(list(resbio_VTE, sydney),fill=TRUE)"
   ]
  },
  {
   "cell_type": "code",
   "execution_count": 3,
   "id": "b2d3ecd5-9055-454b-94f9-aaf679d4d7dc",
   "metadata": {},
   "outputs": [
    {
     "name": "stderr",
     "output_type": "stream",
     "text": [
      "Warning message in scan(file = file, what = what, sep = sep, quote = quote, dec = dec, :\n",
      "\"EOF within quoted string\"\n",
      "Warning message in scan(file = file, what = what, sep = sep, quote = quote, dec = dec, :\n",
      "\"number of items read is not a multiple of the number of columns\"\n"
     ]
    }
   ],
   "source": [
    "xs <- read.table('data/data_mutations_extended_xs_1_6_23.txt', \n",
    "                 header = TRUE, sep = \"\\t\", comment.char = \"#\")\n",
    "vc = table(xs$Hugo_Symbol)"
   ]
  },
  {
   "cell_type": "code",
   "execution_count": 56,
   "id": "2aea6762-e7be-42e8-8e12-f7038b9ccf81",
   "metadata": {},
   "outputs": [
    {
     "name": "stdout",
     "output_type": "stream",
     "text": [
      "[1] 1272\n",
      "[1] 465\n",
      "[1] 339\n",
      "[1] 254\n",
      "[1] 148\n",
      "[1] 187\n",
      "[1] 82\n",
      "[1] 192\n",
      "[1] 92\n",
      "[1] 80\n",
      "[1] 76\n",
      "[1] 63\n",
      "[1] 107\n",
      "[1] 121\n",
      "[1] 91\n",
      "[1] 83\n",
      "[1] 64\n",
      "[1] 105\n",
      "[1] 121\n",
      "[1] 75\n",
      "[1] 76\n",
      "[1] 80\n",
      "[1] 70\n",
      "[1] 69\n",
      "[1] 65\n",
      "[1] 38\n",
      "[1] 34\n",
      "[1] 41\n",
      "[1] exp(coef)  exp(-coef) 2.5%       97.5%     \n",
      "<0 rows> (or 0-length row.names)\n"
     ]
    }
   ],
   "source": [
    "cois <- list(\"Non.Small.Cell.Lung.Cancer\", \"Breast.Cancer\", \"Pancreatic.Cancer\",\n",
    "            \"Melanoma\", \"Prostate.Cancer\", \"Bladder.Cancer\",\n",
    "            \"Esophagogastric.Cancer\", \"Hepatobiliary.Cancer\", \"Colorectal.Cancer\")\n",
    "\n",
    "columns = c(\"exp(coef)\",\"exp(-coef)\",\"2.5%\",\"97.5%\") \n",
    "df = data.frame(matrix(nrow = 0, ncol = length(columns)))\n",
    "colnames(df) = columns\n",
    "\n",
    "for (x in names(sort(vc,decreasing=TRUE))) {\n",
    "    if (x %in% colnames(vte)){\n",
    "        if(sum(vte[,x])>=30){\n",
    "            print(sum(vte[,x]))\n",
    "           # z<-crr(vte$stop,vte$CAT_DEATH_ENDPT,vte[c(x,unlist(cois))])\n",
    "           # df[x,]<-(summary(z)$conf.int)[x,]\n",
    "        }\n",
    "    }\n",
    "}\n",
    "print(df)\n",
    "write.csv(df, \"Routputs/geneStrat_ctDNA_CAT.csv\", row.names=TRUE)"
   ]
  },
  {
   "cell_type": "code",
   "execution_count": 12,
   "id": "2dcb2f27-d1ad-4daf-88ad-56dca08e3adc",
   "metadata": {},
   "outputs": [
    {
     "name": "stdout",
     "output_type": "stream",
     "text": [
      "                           exp(coef) exp(-coef)       2.5%     97.5%\n",
      "Non.Small.Cell.Lung.Cancer 2.0780516  0.4812200 1.73271150 2.4922202\n",
      "Breast.Cancer              0.4604712  2.1716886 0.32204834 0.6583910\n",
      "Pancreatic.Cancer          1.5729802  0.6357359 1.19994881 2.0619768\n",
      "Melanoma                   0.1930692  5.1794912 0.09161161 0.4068884\n",
      "Prostate.Cancer            0.7191252  1.3905785 0.45796398 1.1292176\n",
      "Bladder.Cancer             1.2749223  0.7843615 0.87094816 1.8662728\n",
      "Esophagogastric.Cancer     0.7652417  1.3067767 0.43933103 1.3329239\n",
      "Hepatobiliary.Cancer       1.3649216  0.7326428 0.86494959 2.1538954\n",
      "Colorectal.Cancer          0.3765680  2.6555631 0.15774170 0.8989598\n"
     ]
    }
   ],
   "source": [
    "cois <- list(\"Non.Small.Cell.Lung.Cancer\", \"Breast.Cancer\", \"Pancreatic.Cancer\",\n",
    "            \"Melanoma\", \"Prostate.Cancer\", \"Bladder.Cancer\",\n",
    "            \"Esophagogastric.Cancer\", \"Hepatobiliary.Cancer\", \"Colorectal.Cancer\")\n",
    "\n",
    "columns = c(\"exp(coef)\",\"exp(-coef)\",\"2.5%\",\"97.5%\") \n",
    "df = data.frame(matrix(nrow = 0, ncol = length(columns)))\n",
    "colnames(df) = columns\n",
    "\n",
    "for (x in cois) {\n",
    "    z<-crr(vte$stop,vte$CAT_DEATH_ENDPT,vte[,x])\n",
    "    df[x,]<-summary(z)$conf.int\n",
    "}\n",
    "print(df)\n",
    "write.csv(df, \"Routputs/cancerStrat_CAT.csv\", row.names=TRUE)"
   ]
  },
  {
   "cell_type": "code",
   "execution_count": 5,
   "id": "799e86e8-d4eb-4c32-b46e-f7e44ccced79",
   "metadata": {},
   "outputs": [
    {
     "name": "stdout",
     "output_type": "stream",
     "text": [
      "                           exp(coef) exp(-coef)      2.5%     97.5%\n",
      "Non.Small.Cell.Lung.Cancer  2.365530  0.4227382 1.8621735  3.004947\n",
      "Breast.Cancer               1.839788  0.5435409 1.0898203  3.105852\n",
      "Pancreatic.Cancer           1.858706  0.5380086 1.1696450  2.953708\n",
      "Melanoma                    8.569877  0.1166878 1.8976683 38.701596\n",
      "Prostate.Cancer             1.772679  0.5641180 0.9817868  3.200685\n",
      "Bladder.Cancer              1.356662  0.7371031 0.7022942  2.620743\n",
      "Esophagogastric.Cancer      2.715552  0.3682493 0.5543826 13.301685\n",
      "Hepatobiliary.Cancer        1.710310  0.5846895 0.4917487  5.948483\n",
      "Colorectal.Cancer           3.296229  0.3033770 1.5799255  6.876986\n",
      "Other                       2.713992  0.3684609 1.7065948  4.316053\n"
     ]
    }
   ],
   "source": [
    "cois <- list(\"Non.Small.Cell.Lung.Cancer\", \"Breast.Cancer\", \"Pancreatic.Cancer\",\n",
    "            \"Melanoma\", \"Prostate.Cancer\", \"Bladder.Cancer\",\n",
    "            \"Esophagogastric.Cancer\", \"Hepatobiliary.Cancer\", \"Colorectal.Cancer\")\n",
    "\n",
    "columns = c(\"exp(coef)\",\"exp(-coef)\",\"2.5%\",\"97.5%\") \n",
    "df = data.frame(matrix(nrow = 0, ncol = length(columns)))\n",
    "colnames(df) = columns\n",
    "\n",
    "for (x in cois) {\n",
    "    temp<-vte[c(unlist(vte[x])),]\n",
    "    z<-crr(temp$stop,temp$CAT_DEATH_ENDPT,temp$log10.cfDNA.concentration.)\n",
    "    df[x,]<-summary(z)$conf.int\n",
    "}\n",
    "temp<-vte[apply(vte[c(unlist(cois))], 1, function(row) all(row == FALSE)), ]\n",
    "z<-crr(temp$stop,temp$CAT_DEATH_ENDPT,temp$log10.cfDNA.concentration.)\n",
    "df['Other',]<-summary(z)$conf.int\n",
    "print(df)\n",
    "write.csv(df, \"Routputs/cancerStrat_cfDNA_CAT.csv\", row.names=TRUE)"
   ]
  },
  {
   "cell_type": "code",
   "execution_count": 3,
   "id": "f80d4281-4b00-43a0-995b-8d709922c847",
   "metadata": {},
   "outputs": [
    {
     "name": "stdout",
     "output_type": "stream",
     "text": [
      "                            exp(coef) exp(-coef)      2.5%      97.5%\n",
      "Non.Small.Cell.Lung.Cancer  1.8399863 0.54348229 1.3304195   2.544723\n",
      "Breast.Cancer               2.8180203 0.35485905 0.9845286   8.066031\n",
      "Pancreatic.Cancer           2.2197911 0.45049283 1.2907088   3.817649\n",
      "Melanoma                   18.5270017 0.05397527 2.2283682 154.036390\n",
      "Prostate.Cancer             3.4856744 0.28688853 0.7988208  15.209827\n",
      "Bladder.Cancer              1.0730132 0.93195499 0.4774411   2.411517\n",
      "Esophagogastric.Cancer      6.8785527 0.14537942 0.8769164  53.955528\n",
      "Hepatobiliary.Cancer        0.9143161 1.09371368 0.3358440   2.489173\n",
      "Colorectal.Cancer           0.8924634 1.12049408 0.1539538   5.173570\n",
      "Other                       3.2389868 0.30873852 1.6569848   6.331401\n"
     ]
    }
   ],
   "source": [
    "cois <- list(\"Non.Small.Cell.Lung.Cancer\", \"Breast.Cancer\", \"Pancreatic.Cancer\",\n",
    "            \"Melanoma\", \"Prostate.Cancer\", \"Bladder.Cancer\",\n",
    "            \"Esophagogastric.Cancer\", \"Hepatobiliary.Cancer\", \"Colorectal.Cancer\")\n",
    "\n",
    "columns = c(\"exp(coef)\",\"exp(-coef)\",\"2.5%\",\"97.5%\") \n",
    "df = data.frame(matrix(nrow = 0, ncol = length(columns)))\n",
    "colnames(df) = columns\n",
    "\n",
    "for (x in cois) {\n",
    "    temp<-vte[c(unlist(vte[x])),]\n",
    "    z<-crr(temp$stop,temp$CAT_DEATH_ENDPT,temp$X.ctDNA)\n",
    "    df[x,]<-summary(z)$conf.int\n",
    "}\n",
    "temp<-vte[apply(vte[c(unlist(cois))], 1, function(row) all(row == FALSE)), ]\n",
    "z<-crr(temp$stop,temp$CAT_DEATH_ENDPT,temp$X.ctDNA)\n",
    "df['Other',]<-summary(z)$conf.int\n",
    "print(df)\n",
    "write.csv(df, \"Routputs/cancerStrat_ctDNA_CAT.csv\", row.names=TRUE)"
   ]
  },
  {
   "cell_type": "code",
   "execution_count": 15,
   "id": "b687606e-4b23-433e-9306-cae5dc7c5030",
   "metadata": {},
   "outputs": [
    {
     "name": "stdout",
     "output_type": "stream",
     "text": [
      "convergence:  TRUE \n",
      "coefficients:\n",
      "resbio_all[resbio_all$stop > 180, ]$X.ctDNA1 \n",
      "                                      0.4832 \n",
      "standard errors:\n",
      "[1] 0.3461\n",
      "two-sided p-values:\n",
      "resbio_all[resbio_all$stop > 180, ]$X.ctDNA1 \n",
      "                                        0.16 \n"
     ]
    },
    {
     "data": {
      "text/html": [
       "<table class=\"dataframe\">\n",
       "<caption>A matrix: 1 × 4 of type dbl</caption>\n",
       "<thead>\n",
       "\t<tr><th></th><th scope=col>exp(coef)</th><th scope=col>exp(-coef)</th><th scope=col>2.5%</th><th scope=col>97.5%</th></tr>\n",
       "</thead>\n",
       "<tbody>\n",
       "\t<tr><th scope=row>resbio_all[resbio_all$stop &gt; 180, ]$X.ctDNA1</th><td>1.621246</td><td>0.6168097</td><td>0.8227671</td><td>3.194631</td></tr>\n",
       "</tbody>\n",
       "</table>\n"
      ],
      "text/latex": [
       "A matrix: 1 × 4 of type dbl\n",
       "\\begin{tabular}{r|llll}\n",
       "  & exp(coef) & exp(-coef) & 2.5\\% & 97.5\\%\\\\\n",
       "\\hline\n",
       "\tresbio\\_all{[}resbio\\_all\\$stop > 180, {]}\\$X.ctDNA1 & 1.621246 & 0.6168097 & 0.8227671 & 3.194631\\\\\n",
       "\\end{tabular}\n"
      ],
      "text/markdown": [
       "\n",
       "A matrix: 1 × 4 of type dbl\n",
       "\n",
       "| <!--/--> | exp(coef) | exp(-coef) | 2.5% | 97.5% |\n",
       "|---|---|---|---|---|\n",
       "| resbio_all[resbio_all$stop &gt; 180, ]$X.ctDNA1 | 1.621246 | 0.6168097 | 0.8227671 | 3.194631 |\n",
       "\n"
      ],
      "text/plain": [
       "                                             exp(coef) exp(-coef) 2.5%     \n",
       "resbio_all[resbio_all$stop > 180, ]$X.ctDNA1 1.621246  0.6168097  0.8227671\n",
       "                                             97.5%   \n",
       "resbio_all[resbio_all$stop > 180, ]$X.ctDNA1 3.194631"
      ]
     },
     "metadata": {},
     "output_type": "display_data"
    }
   ],
   "source": [
    "print(z<-crr(resbio_all[resbio_all$stop>180,]$stop,\n",
    "             resbio_all[resbio_all$stop>180,]$CAT_DEATH_ENDPT,\n",
    "             resbio_all[resbio_all$stop>180,]$X.ctDNA))\n",
    "summary(z)$conf.int"
   ]
  },
  {
   "cell_type": "code",
   "execution_count": 14,
   "id": "f8e6d7c6-6aed-42c3-87ee-73267f96b0c2",
   "metadata": {},
   "outputs": [
    {
     "name": "stdout",
     "output_type": "stream",
     "text": [
      "convergence:  TRUE \n",
      "coefficients:\n",
      "vte[vte$stop > 180, ]$X.ctDNA1 \n",
      "                        0.4718 \n",
      "standard errors:\n",
      "[1] 0.1716\n",
      "two-sided p-values:\n",
      "vte[vte$stop > 180, ]$X.ctDNA1 \n",
      "                         0.006 \n"
     ]
    },
    {
     "data": {
      "text/html": [
       "<table class=\"dataframe\">\n",
       "<caption>A matrix: 1 × 4 of type dbl</caption>\n",
       "<thead>\n",
       "\t<tr><th></th><th scope=col>exp(coef)</th><th scope=col>exp(-coef)</th><th scope=col>2.5%</th><th scope=col>97.5%</th></tr>\n",
       "</thead>\n",
       "<tbody>\n",
       "\t<tr><th scope=row>vte[vte$stop &gt; 180, ]$X.ctDNA1</th><td>1.602888</td><td>0.6238739</td><td>1.145074</td><td>2.243742</td></tr>\n",
       "</tbody>\n",
       "</table>\n"
      ],
      "text/latex": [
       "A matrix: 1 × 4 of type dbl\n",
       "\\begin{tabular}{r|llll}\n",
       "  & exp(coef) & exp(-coef) & 2.5\\% & 97.5\\%\\\\\n",
       "\\hline\n",
       "\tvte{[}vte\\$stop > 180, {]}\\$X.ctDNA1 & 1.602888 & 0.6238739 & 1.145074 & 2.243742\\\\\n",
       "\\end{tabular}\n"
      ],
      "text/markdown": [
       "\n",
       "A matrix: 1 × 4 of type dbl\n",
       "\n",
       "| <!--/--> | exp(coef) | exp(-coef) | 2.5% | 97.5% |\n",
       "|---|---|---|---|---|\n",
       "| vte[vte$stop &gt; 180, ]$X.ctDNA1 | 1.602888 | 0.6238739 | 1.145074 | 2.243742 |\n",
       "\n"
      ],
      "text/plain": [
       "                               exp(coef) exp(-coef) 2.5%     97.5%   \n",
       "vte[vte$stop > 180, ]$X.ctDNA1 1.602888  0.6238739  1.145074 2.243742"
      ]
     },
     "metadata": {},
     "output_type": "display_data"
    }
   ],
   "source": [
    "print(z<-crr(vte[vte$stop>180,]$stop,\n",
    "             vte[vte$stop>180,]$CAT_DEATH_ENDPT,\n",
    "             vte[vte$stop>180,]$X.ctDNA))\n",
    "summary(z)$conf.int"
   ]
  },
  {
   "cell_type": "code",
   "execution_count": 6,
   "id": "f3131115-1334-442b-8297-25928e1e80d5",
   "metadata": {},
   "outputs": [
    {
     "name": "stdout",
     "output_type": "stream",
     "text": [
      "convergence:  TRUE \n",
      "coefficients:\n",
      "vte$X.ctDNA1 \n",
      "      0.9105 \n",
      "standard errors:\n",
      "[1] 0.1136\n",
      "two-sided p-values:\n",
      "vte$X.ctDNA1 \n",
      "     1.1e-15 \n"
     ]
    },
    {
     "data": {
      "text/html": [
       "<table class=\"dataframe\">\n",
       "<caption>A matrix: 1 × 4 of type dbl</caption>\n",
       "<thead>\n",
       "\t<tr><th></th><th scope=col>exp(coef)</th><th scope=col>exp(-coef)</th><th scope=col>2.5%</th><th scope=col>97.5%</th></tr>\n",
       "</thead>\n",
       "<tbody>\n",
       "\t<tr><th scope=row>vte$X.ctDNA1</th><td>2.485543</td><td>0.4023265</td><td>1.98942</td><td>3.105391</td></tr>\n",
       "</tbody>\n",
       "</table>\n"
      ],
      "text/latex": [
       "A matrix: 1 × 4 of type dbl\n",
       "\\begin{tabular}{r|llll}\n",
       "  & exp(coef) & exp(-coef) & 2.5\\% & 97.5\\%\\\\\n",
       "\\hline\n",
       "\tvte\\$X.ctDNA1 & 2.485543 & 0.4023265 & 1.98942 & 3.105391\\\\\n",
       "\\end{tabular}\n"
      ],
      "text/markdown": [
       "\n",
       "A matrix: 1 × 4 of type dbl\n",
       "\n",
       "| <!--/--> | exp(coef) | exp(-coef) | 2.5% | 97.5% |\n",
       "|---|---|---|---|---|\n",
       "| vte$X.ctDNA1 | 2.485543 | 0.4023265 | 1.98942 | 3.105391 |\n",
       "\n"
      ],
      "text/plain": [
       "             exp(coef) exp(-coef) 2.5%    97.5%   \n",
       "vte$X.ctDNA1 2.485543  0.4023265  1.98942 3.105391"
      ]
     },
     "metadata": {},
     "output_type": "display_data"
    }
   ],
   "source": [
    "print(z<-crr(vte$stop,vte$CAT_DEATH_ENDPT,vte$X.ctDNA))\n",
    "summary(z)$conf.int"
   ]
  },
  {
   "cell_type": "code",
   "execution_count": 97,
   "id": "25c27a31-834e-4591-b11f-b4726750b7dd",
   "metadata": {},
   "outputs": [],
   "source": [
    "mtv <- read.csv(\"data/MTV_128_mrn.csv\")\n",
    "resbio_mtv <- merge(resbio_all[,c(\"MRN\",\"X.ctDNA\",\"KHORANA.SCORE\",'stop','CAT_DEATH_ENDPT',\n",
    "                                 \"log10.cfDNA.concentration.\",\"chemotherapy\")], \n",
    "                    new_dataframe, by = \"MRN\", all.x = FALSE, all.y = FALSE)\n",
    "xs_mtv<-merge(vte[,c(\"MRN\",\"X.ctDNA\",\"KHORANA.SCORE\",'stop','CAT_DEATH_ENDPT',\n",
    "                                 \"log10.cfDNA.concentration.\",\"chemotherapy\")], \n",
    "                    new_dataframe, by = \"MRN\", all.x = FALSE, all.y = FALSE)\n",
    "\n",
    "all_mtv<-rbind(resbio_mtv,xs_mtv)\n",
    "all_mtv$chemotherapy<-all_mtv$chemotherapy==\"True\"\n",
    "all_mtv$log10.MTV<-log10(all_mtv$MTV+1)\n",
    "all_mtv$CAT_DEATH_ENDPT = as.numeric(all_mtv$CAT_DEATH_ENDPT)"
   ]
  },
  {
   "cell_type": "code",
   "execution_count": 98,
   "id": "c343238b-8796-4a12-81d0-b0315c2045e4",
   "metadata": {},
   "outputs": [
    {
     "data": {
      "text/html": [
       "<table class=\"dataframe\">\n",
       "<caption>A matrix: 5 × 4 of type dbl</caption>\n",
       "<thead>\n",
       "\t<tr><th></th><th scope=col>exp(coef)</th><th scope=col>exp(-coef)</th><th scope=col>2.5%</th><th scope=col>97.5%</th></tr>\n",
       "</thead>\n",
       "<tbody>\n",
       "\t<tr><th scope=row>X.ctDNA</th><td>3.993218</td><td>0.2504246</td><td>1.1865931</td><td>13.438297</td></tr>\n",
       "\t<tr><th scope=row>log10.MTV</th><td>1.197784</td><td>0.8348751</td><td>0.5420369</td><td> 2.646843</td></tr>\n",
       "\t<tr><th scope=row>KHORANA.SCORE</th><td>1.186951</td><td>0.8424948</td><td>0.6684478</td><td> 2.107648</td></tr>\n",
       "\t<tr><th scope=row>log10.cfDNA.concentration.</th><td>0.998440</td><td>1.0015624</td><td>0.3105980</td><td> 3.209558</td></tr>\n",
       "\t<tr><th scope=row>chemotherapy</th><td>3.201308</td><td>0.3123723</td><td>1.4330750</td><td> 7.151318</td></tr>\n",
       "</tbody>\n",
       "</table>\n"
      ],
      "text/latex": [
       "A matrix: 5 × 4 of type dbl\n",
       "\\begin{tabular}{r|llll}\n",
       "  & exp(coef) & exp(-coef) & 2.5\\% & 97.5\\%\\\\\n",
       "\\hline\n",
       "\tX.ctDNA & 3.993218 & 0.2504246 & 1.1865931 & 13.438297\\\\\n",
       "\tlog10.MTV & 1.197784 & 0.8348751 & 0.5420369 &  2.646843\\\\\n",
       "\tKHORANA.SCORE & 1.186951 & 0.8424948 & 0.6684478 &  2.107648\\\\\n",
       "\tlog10.cfDNA.concentration. & 0.998440 & 1.0015624 & 0.3105980 &  3.209558\\\\\n",
       "\tchemotherapy & 3.201308 & 0.3123723 & 1.4330750 &  7.151318\\\\\n",
       "\\end{tabular}\n"
      ],
      "text/markdown": [
       "\n",
       "A matrix: 5 × 4 of type dbl\n",
       "\n",
       "| <!--/--> | exp(coef) | exp(-coef) | 2.5% | 97.5% |\n",
       "|---|---|---|---|---|\n",
       "| X.ctDNA | 3.993218 | 0.2504246 | 1.1865931 | 13.438297 |\n",
       "| log10.MTV | 1.197784 | 0.8348751 | 0.5420369 |  2.646843 |\n",
       "| KHORANA.SCORE | 1.186951 | 0.8424948 | 0.6684478 |  2.107648 |\n",
       "| log10.cfDNA.concentration. | 0.998440 | 1.0015624 | 0.3105980 |  3.209558 |\n",
       "| chemotherapy | 3.201308 | 0.3123723 | 1.4330750 |  7.151318 |\n",
       "\n"
      ],
      "text/plain": [
       "                           exp(coef) exp(-coef) 2.5%      97.5%    \n",
       "X.ctDNA                    3.993218  0.2504246  1.1865931 13.438297\n",
       "log10.MTV                  1.197784  0.8348751  0.5420369  2.646843\n",
       "KHORANA.SCORE              1.186951  0.8424948  0.6684478  2.107648\n",
       "log10.cfDNA.concentration. 0.998440  1.0015624  0.3105980  3.209558\n",
       "chemotherapy               3.201308  0.3123723  1.4330750  7.151318"
      ]
     },
     "metadata": {},
     "output_type": "display_data"
    }
   ],
   "source": [
    "z<-crr(all_mtv$stop,\n",
    "       all_mtv$CAT_DEATH_ENDPT,\n",
    "       all_mtv[,c(\"X.ctDNA\",\"log10.MTV\",\n",
    "                  \"KHORANA.SCORE\",\"log10.cfDNA.concentration.\",\"chemotherapy\")])\n",
    "summary(z)$conf.int\n",
    "write.csv(summary(z)$conf.int, \"Routputs/multivar_MTV.csv\", row.names=TRUE)"
   ]
  },
  {
   "cell_type": "code",
   "execution_count": 20,
   "id": "628dc517-67d7-48f0-827d-e0e44682b8b2",
   "metadata": {},
   "outputs": [
    {
     "data": {
      "text/html": [
       "<table class=\"dataframe\">\n",
       "<caption>A matrix: 5 × 4 of type dbl</caption>\n",
       "<thead>\n",
       "\t<tr><th></th><th scope=col>exp(coef)</th><th scope=col>exp(-coef)</th><th scope=col>2.5%</th><th scope=col>97.5%</th></tr>\n",
       "</thead>\n",
       "<tbody>\n",
       "\t<tr><th scope=row>X.ctDNA</th><td>1.655933</td><td>0.6038890</td><td>1.299020</td><td>2.110910</td></tr>\n",
       "\t<tr><th scope=row>KHORANA.SCORE</th><td>1.133262</td><td>0.8824081</td><td>1.033132</td><td>1.243098</td></tr>\n",
       "\t<tr><th scope=row>N.organ.sites</th><td>1.121745</td><td>0.8914684</td><td>1.065183</td><td>1.181310</td></tr>\n",
       "\t<tr><th scope=row>log10.cfDNA.concentration.</th><td>1.614733</td><td>0.6192973</td><td>1.358886</td><td>1.918751</td></tr>\n",
       "\t<tr><th scope=row>chemotherapy</th><td>1.705112</td><td>0.5864716</td><td>1.404400</td><td>2.070214</td></tr>\n",
       "</tbody>\n",
       "</table>\n"
      ],
      "text/latex": [
       "A matrix: 5 × 4 of type dbl\n",
       "\\begin{tabular}{r|llll}\n",
       "  & exp(coef) & exp(-coef) & 2.5\\% & 97.5\\%\\\\\n",
       "\\hline\n",
       "\tX.ctDNA & 1.655933 & 0.6038890 & 1.299020 & 2.110910\\\\\n",
       "\tKHORANA.SCORE & 1.133262 & 0.8824081 & 1.033132 & 1.243098\\\\\n",
       "\tN.organ.sites & 1.121745 & 0.8914684 & 1.065183 & 1.181310\\\\\n",
       "\tlog10.cfDNA.concentration. & 1.614733 & 0.6192973 & 1.358886 & 1.918751\\\\\n",
       "\tchemotherapy & 1.705112 & 0.5864716 & 1.404400 & 2.070214\\\\\n",
       "\\end{tabular}\n"
      ],
      "text/markdown": [
       "\n",
       "A matrix: 5 × 4 of type dbl\n",
       "\n",
       "| <!--/--> | exp(coef) | exp(-coef) | 2.5% | 97.5% |\n",
       "|---|---|---|---|---|\n",
       "| X.ctDNA | 1.655933 | 0.6038890 | 1.299020 | 2.110910 |\n",
       "| KHORANA.SCORE | 1.133262 | 0.8824081 | 1.033132 | 1.243098 |\n",
       "| N.organ.sites | 1.121745 | 0.8914684 | 1.065183 | 1.181310 |\n",
       "| log10.cfDNA.concentration. | 1.614733 | 0.6192973 | 1.358886 | 1.918751 |\n",
       "| chemotherapy | 1.705112 | 0.5864716 | 1.404400 | 2.070214 |\n",
       "\n"
      ],
      "text/plain": [
       "                           exp(coef) exp(-coef) 2.5%     97.5%   \n",
       "X.ctDNA                    1.655933  0.6038890  1.299020 2.110910\n",
       "KHORANA.SCORE              1.133262  0.8824081  1.033132 1.243098\n",
       "N.organ.sites              1.121745  0.8914684  1.065183 1.181310\n",
       "log10.cfDNA.concentration. 1.614733  0.6192973  1.358886 1.918751\n",
       "chemotherapy               1.705112  0.5864716  1.404400 2.070214"
      ]
     },
     "metadata": {},
     "output_type": "display_data"
    }
   ],
   "source": [
    "z<-crr(vte$stop,vte$CAT_DEATH_ENDPT,vte[c(\"X.ctDNA\",\n",
    "                  \"KHORANA.SCORE\",\"N.organ.sites\",\"log10.cfDNA.concentration.\",\"chemotherapy\")])\n",
    "summary(z)$conf.int\n",
    "write.csv(summary(z)$conf.int, \"Routputs/validation_ctDNA_CAT.csv\", row.names=TRUE)"
   ]
  },
  {
   "cell_type": "code",
   "execution_count": 33,
   "id": "861b5a88-1da1-41ee-bab9-226571575009",
   "metadata": {},
   "outputs": [
    {
     "data": {
      "text/html": [
       "<table class=\"dataframe\">\n",
       "<caption>A matrix: 4 × 4 of type dbl</caption>\n",
       "<thead>\n",
       "\t<tr><th></th><th scope=col>exp(coef)</th><th scope=col>exp(-coef)</th><th scope=col>2.5%</th><th scope=col>97.5%</th></tr>\n",
       "</thead>\n",
       "<tbody>\n",
       "\t<tr><th scope=row>X.ctDNA</th><td>1.865177</td><td>0.5361421</td><td>1.3006572</td><td>2.674713</td></tr>\n",
       "\t<tr><th scope=row>KHORANA.SCORE</th><td>1.139589</td><td>0.8775092</td><td>0.9752799</td><td>1.331580</td></tr>\n",
       "\t<tr><th scope=row>log10.cfDNA.concentration.</th><td>2.138877</td><td>0.4675352</td><td>1.6179903</td><td>2.827454</td></tr>\n",
       "\t<tr><th scope=row>chemotherapy</th><td>1.925479</td><td>0.5193514</td><td>1.3699967</td><td>2.706188</td></tr>\n",
       "</tbody>\n",
       "</table>\n"
      ],
      "text/latex": [
       "A matrix: 4 × 4 of type dbl\n",
       "\\begin{tabular}{r|llll}\n",
       "  & exp(coef) & exp(-coef) & 2.5\\% & 97.5\\%\\\\\n",
       "\\hline\n",
       "\tX.ctDNA & 1.865177 & 0.5361421 & 1.3006572 & 2.674713\\\\\n",
       "\tKHORANA.SCORE & 1.139589 & 0.8775092 & 0.9752799 & 1.331580\\\\\n",
       "\tlog10.cfDNA.concentration. & 2.138877 & 0.4675352 & 1.6179903 & 2.827454\\\\\n",
       "\tchemotherapy & 1.925479 & 0.5193514 & 1.3699967 & 2.706188\\\\\n",
       "\\end{tabular}\n"
      ],
      "text/markdown": [
       "\n",
       "A matrix: 4 × 4 of type dbl\n",
       "\n",
       "| <!--/--> | exp(coef) | exp(-coef) | 2.5% | 97.5% |\n",
       "|---|---|---|---|---|\n",
       "| X.ctDNA | 1.865177 | 0.5361421 | 1.3006572 | 2.674713 |\n",
       "| KHORANA.SCORE | 1.139589 | 0.8775092 | 0.9752799 | 1.331580 |\n",
       "| log10.cfDNA.concentration. | 2.138877 | 0.4675352 | 1.6179903 | 2.827454 |\n",
       "| chemotherapy | 1.925479 | 0.5193514 | 1.3699967 | 2.706188 |\n",
       "\n"
      ],
      "text/plain": [
       "                           exp(coef) exp(-coef) 2.5%      97.5%   \n",
       "X.ctDNA                    1.865177  0.5361421  1.3006572 2.674713\n",
       "KHORANA.SCORE              1.139589  0.8775092  0.9752799 1.331580\n",
       "log10.cfDNA.concentration. 2.138877  0.4675352  1.6179903 2.827454\n",
       "chemotherapy               1.925479  0.5193514  1.3699967 2.706188"
      ]
     },
     "metadata": {},
     "output_type": "display_data"
    }
   ],
   "source": [
    "z<-crr(vte[!vte$STAGE_IV_DX=='True',]$stop,\n",
    "       vte[!vte$STAGE_IV_DX=='True',]$CAT_DEATH_ENDPT,\n",
    "       vte[!vte$STAGE_IV_DX=='True',][c(\"X.ctDNA\",\n",
    "                  \"KHORANA.SCORE\",\"log10.cfDNA.concentration.\",'chemotherapy')])\n",
    "summary(z)$conf.int\n",
    "write.csv(summary(z)$conf.int, \"Routputs/multivar_ctDNA_CAT_notstageIV.csv\", row.names=TRUE)"
   ]
  },
  {
   "cell_type": "code",
   "execution_count": 31,
   "id": "074ede67-9cef-4e34-9f9e-5c446769a122",
   "metadata": {},
   "outputs": [
    {
     "data": {
      "text/html": [
       "<table class=\"dataframe\">\n",
       "<caption>A matrix: 5 × 4 of type dbl</caption>\n",
       "<thead>\n",
       "\t<tr><th></th><th scope=col>exp(coef)</th><th scope=col>exp(-coef)</th><th scope=col>2.5%</th><th scope=col>97.5%</th></tr>\n",
       "</thead>\n",
       "<tbody>\n",
       "\t<tr><th scope=row>X.ctDNA</th><td>1.439574</td><td>0.6946500</td><td>1.0629785</td><td>1.949590</td></tr>\n",
       "\t<tr><th scope=row>KHORANA.SCORE</th><td>1.080209</td><td>0.9257470</td><td>0.9579238</td><td>1.218104</td></tr>\n",
       "\t<tr><th scope=row>N.organ.sites</th><td>1.034782</td><td>0.9663875</td><td>0.9677962</td><td>1.106403</td></tr>\n",
       "\t<tr><th scope=row>log10.cfDNA.concentration.</th><td>1.360047</td><td>0.7352687</td><td>1.0997704</td><td>1.681922</td></tr>\n",
       "\t<tr><th scope=row>chemotherapy</th><td>1.410453</td><td>0.7089923</td><td>1.1192115</td><td>1.777480</td></tr>\n",
       "</tbody>\n",
       "</table>\n"
      ],
      "text/latex": [
       "A matrix: 5 × 4 of type dbl\n",
       "\\begin{tabular}{r|llll}\n",
       "  & exp(coef) & exp(-coef) & 2.5\\% & 97.5\\%\\\\\n",
       "\\hline\n",
       "\tX.ctDNA & 1.439574 & 0.6946500 & 1.0629785 & 1.949590\\\\\n",
       "\tKHORANA.SCORE & 1.080209 & 0.9257470 & 0.9579238 & 1.218104\\\\\n",
       "\tN.organ.sites & 1.034782 & 0.9663875 & 0.9677962 & 1.106403\\\\\n",
       "\tlog10.cfDNA.concentration. & 1.360047 & 0.7352687 & 1.0997704 & 1.681922\\\\\n",
       "\tchemotherapy & 1.410453 & 0.7089923 & 1.1192115 & 1.777480\\\\\n",
       "\\end{tabular}\n"
      ],
      "text/markdown": [
       "\n",
       "A matrix: 5 × 4 of type dbl\n",
       "\n",
       "| <!--/--> | exp(coef) | exp(-coef) | 2.5% | 97.5% |\n",
       "|---|---|---|---|---|\n",
       "| X.ctDNA | 1.439574 | 0.6946500 | 1.0629785 | 1.949590 |\n",
       "| KHORANA.SCORE | 1.080209 | 0.9257470 | 0.9579238 | 1.218104 |\n",
       "| N.organ.sites | 1.034782 | 0.9663875 | 0.9677962 | 1.106403 |\n",
       "| log10.cfDNA.concentration. | 1.360047 | 0.7352687 | 1.0997704 | 1.681922 |\n",
       "| chemotherapy | 1.410453 | 0.7089923 | 1.1192115 | 1.777480 |\n",
       "\n"
      ],
      "text/plain": [
       "                           exp(coef) exp(-coef) 2.5%      97.5%   \n",
       "X.ctDNA                    1.439574  0.6946500  1.0629785 1.949590\n",
       "KHORANA.SCORE              1.080209  0.9257470  0.9579238 1.218104\n",
       "N.organ.sites              1.034782  0.9663875  0.9677962 1.106403\n",
       "log10.cfDNA.concentration. 1.360047  0.7352687  1.0997704 1.681922\n",
       "chemotherapy               1.410453  0.7089923  1.1192115 1.777480"
      ]
     },
     "metadata": {},
     "output_type": "display_data"
    }
   ],
   "source": [
    "z<-crr(vte[vte$STAGE_IV_DX=='True',]$stop,\n",
    "       vte[vte$STAGE_IV_DX=='True',]$CAT_DEATH_ENDPT,\n",
    "       vte[vte$STAGE_IV_DX=='True',][c(\"X.ctDNA\",\n",
    "                  \"KHORANA.SCORE\",\"N.organ.sites\",\"log10.cfDNA.concentration.\",'chemotherapy')])\n",
    "summary(z)$conf.int\n",
    "write.csv(summary(z)$conf.int, \"Routputs/multivar_ctDNA_CAT_stageIV.csv\", row.names=TRUE)"
   ]
  },
  {
   "cell_type": "code",
   "execution_count": 26,
   "id": "80498f79-3c85-4b94-bbc1-3d044c4bd06d",
   "metadata": {},
   "outputs": [
    {
     "data": {
      "text/html": [
       "<table class=\"dataframe\">\n",
       "<caption>A matrix: 4 × 4 of type dbl</caption>\n",
       "<thead>\n",
       "\t<tr><th></th><th scope=col>exp(coef)</th><th scope=col>exp(-coef)</th><th scope=col>2.5%</th><th scope=col>97.5%</th></tr>\n",
       "</thead>\n",
       "<tbody>\n",
       "\t<tr><th scope=row>X.ctDNA</th><td>1.942192</td><td>0.5148821</td><td>1.371180</td><td>2.750996</td></tr>\n",
       "\t<tr><th scope=row>KHORANA.SCORE</th><td>1.188194</td><td>0.8416133</td><td>1.034595</td><td>1.364596</td></tr>\n",
       "\t<tr><th scope=row>N.organ.sites</th><td>1.182935</td><td>0.8453549</td><td>1.101739</td><td>1.270115</td></tr>\n",
       "\t<tr><th scope=row>log10.cfDNA.concentration.</th><td>1.781300</td><td>0.5613879</td><td>1.382113</td><td>2.295781</td></tr>\n",
       "</tbody>\n",
       "</table>\n"
      ],
      "text/latex": [
       "A matrix: 4 × 4 of type dbl\n",
       "\\begin{tabular}{r|llll}\n",
       "  & exp(coef) & exp(-coef) & 2.5\\% & 97.5\\%\\\\\n",
       "\\hline\n",
       "\tX.ctDNA & 1.942192 & 0.5148821 & 1.371180 & 2.750996\\\\\n",
       "\tKHORANA.SCORE & 1.188194 & 0.8416133 & 1.034595 & 1.364596\\\\\n",
       "\tN.organ.sites & 1.182935 & 0.8453549 & 1.101739 & 1.270115\\\\\n",
       "\tlog10.cfDNA.concentration. & 1.781300 & 0.5613879 & 1.382113 & 2.295781\\\\\n",
       "\\end{tabular}\n"
      ],
      "text/markdown": [
       "\n",
       "A matrix: 4 × 4 of type dbl\n",
       "\n",
       "| <!--/--> | exp(coef) | exp(-coef) | 2.5% | 97.5% |\n",
       "|---|---|---|---|---|\n",
       "| X.ctDNA | 1.942192 | 0.5148821 | 1.371180 | 2.750996 |\n",
       "| KHORANA.SCORE | 1.188194 | 0.8416133 | 1.034595 | 1.364596 |\n",
       "| N.organ.sites | 1.182935 | 0.8453549 | 1.101739 | 1.270115 |\n",
       "| log10.cfDNA.concentration. | 1.781300 | 0.5613879 | 1.382113 | 2.295781 |\n",
       "\n"
      ],
      "text/plain": [
       "                           exp(coef) exp(-coef) 2.5%     97.5%   \n",
       "X.ctDNA                    1.942192  0.5148821  1.371180 2.750996\n",
       "KHORANA.SCORE              1.188194  0.8416133  1.034595 1.364596\n",
       "N.organ.sites              1.182935  0.8453549  1.101739 1.270115\n",
       "log10.cfDNA.concentration. 1.781300  0.5613879  1.382113 2.295781"
      ]
     },
     "metadata": {},
     "output_type": "display_data"
    }
   ],
   "source": [
    "z<-crr(vte[!vte$chemotherapy,]$stop,\n",
    "       vte[!vte$chemotherapy,]$CAT_DEATH_ENDPT,\n",
    "       vte[!vte$chemotherapy,][c(\"X.ctDNA\",\n",
    "                  \"KHORANA.SCORE\",\"N.organ.sites\",\"log10.cfDNA.concentration.\")])\n",
    "summary(z)$conf.int\n",
    "write.csv(summary(z)$conf.int, \"Routputs/multivar_ctDNA_CAT_nochemotherapy.csv\", row.names=TRUE)"
   ]
  },
  {
   "cell_type": "code",
   "execution_count": 27,
   "id": "1f6734f4-c2ac-4c87-810f-cfe5f5ce4e8c",
   "metadata": {},
   "outputs": [
    {
     "data": {
      "text/html": [
       "<table class=\"dataframe\">\n",
       "<caption>A matrix: 4 × 4 of type dbl</caption>\n",
       "<thead>\n",
       "\t<tr><th></th><th scope=col>exp(coef)</th><th scope=col>exp(-coef)</th><th scope=col>2.5%</th><th scope=col>97.5%</th></tr>\n",
       "</thead>\n",
       "<tbody>\n",
       "\t<tr><th scope=row>X.ctDNA</th><td>1.350136</td><td>0.7406659</td><td>0.9760670</td><td>1.867565</td></tr>\n",
       "\t<tr><th scope=row>KHORANA.SCORE</th><td>1.049095</td><td>0.9532022</td><td>0.9217658</td><td>1.194014</td></tr>\n",
       "\t<tr><th scope=row>N.organ.sites</th><td>1.052448</td><td>0.9501658</td><td>0.9742074</td><td>1.136972</td></tr>\n",
       "\t<tr><th scope=row>log10.cfDNA.concentration.</th><td>1.468634</td><td>0.6809047</td><td>1.1674659</td><td>1.847495</td></tr>\n",
       "</tbody>\n",
       "</table>\n"
      ],
      "text/latex": [
       "A matrix: 4 × 4 of type dbl\n",
       "\\begin{tabular}{r|llll}\n",
       "  & exp(coef) & exp(-coef) & 2.5\\% & 97.5\\%\\\\\n",
       "\\hline\n",
       "\tX.ctDNA & 1.350136 & 0.7406659 & 0.9760670 & 1.867565\\\\\n",
       "\tKHORANA.SCORE & 1.049095 & 0.9532022 & 0.9217658 & 1.194014\\\\\n",
       "\tN.organ.sites & 1.052448 & 0.9501658 & 0.9742074 & 1.136972\\\\\n",
       "\tlog10.cfDNA.concentration. & 1.468634 & 0.6809047 & 1.1674659 & 1.847495\\\\\n",
       "\\end{tabular}\n"
      ],
      "text/markdown": [
       "\n",
       "A matrix: 4 × 4 of type dbl\n",
       "\n",
       "| <!--/--> | exp(coef) | exp(-coef) | 2.5% | 97.5% |\n",
       "|---|---|---|---|---|\n",
       "| X.ctDNA | 1.350136 | 0.7406659 | 0.9760670 | 1.867565 |\n",
       "| KHORANA.SCORE | 1.049095 | 0.9532022 | 0.9217658 | 1.194014 |\n",
       "| N.organ.sites | 1.052448 | 0.9501658 | 0.9742074 | 1.136972 |\n",
       "| log10.cfDNA.concentration. | 1.468634 | 0.6809047 | 1.1674659 | 1.847495 |\n",
       "\n"
      ],
      "text/plain": [
       "                           exp(coef) exp(-coef) 2.5%      97.5%   \n",
       "X.ctDNA                    1.350136  0.7406659  0.9760670 1.867565\n",
       "KHORANA.SCORE              1.049095  0.9532022  0.9217658 1.194014\n",
       "N.organ.sites              1.052448  0.9501658  0.9742074 1.136972\n",
       "log10.cfDNA.concentration. 1.468634  0.6809047  1.1674659 1.847495"
      ]
     },
     "metadata": {},
     "output_type": "display_data"
    }
   ],
   "source": [
    "z<-crr(vte[vte$chemotherapy,]$stop,\n",
    "       vte[vte$chemotherapy,]$CAT_DEATH_ENDPT,\n",
    "       vte[vte$chemotherapy,][c(\"X.ctDNA\",\n",
    "                  \"KHORANA.SCORE\",\"N.organ.sites\",\"log10.cfDNA.concentration.\")])\n",
    "summary(z)$conf.int\n",
    "write.csv(summary(z)$conf.int, \"Routputs/multivar_ctDNA_CAT_chemotherapy.csv\", row.names=TRUE)"
   ]
  },
  {
   "cell_type": "code",
   "execution_count": 8,
   "id": "f62abc6a-aadf-4f00-8e9f-f72d68b91005",
   "metadata": {},
   "outputs": [
    {
     "name": "stderr",
     "output_type": "stream",
     "text": [
      "Warning message in regularize.values(x, y, ties, missing(ties), na.rm = na.rm):\n",
      "\"collapsing to unique 'x' values\"\n",
      "Warning message in regularize.values(x, y, ties, missing(ties), na.rm = na.rm):\n",
      "\"collapsing to unique 'x' values\"\n"
     ]
    },
    {
     "name": "stdout",
     "output_type": "stream",
     "text": [
      "                    exp(coef) exp(-coef)     2.5%    97.5%\n",
      "vte2$X.ctDNA1        2.487571  0.4019985 1.601484 3.863923\n",
      "resbio_all$X.ctDNA1  2.302976  0.4342208 1.433551 3.699692\n",
      "resbio_VTE$X.ctDNA1  2.279461  0.4387002 1.298909 4.000237\n",
      "sydney$X.ctDNA1      2.472615  0.4044301 1.031239 5.928622\n"
     ]
    }
   ],
   "source": [
    "columns = c(\"exp(coef)\",\"exp(-coef)\",\"2.5%\",\"97.5%\") \n",
    "df = data.frame(matrix(nrow = 0, ncol = length(columns)))\n",
    "colnames(df) = columns\n",
    "\n",
    "z<-crr(vte2$stop,vte2$CAT_DEATH_ENDPT,vte2$X.ctDNA)\n",
    "df<-rbind(df,summary(z)$conf.int)\n",
    "\n",
    "z<-crr(resbio_all$stop,resbio_all$CAT_DEATH_ENDPT,resbio_all$X.ctDNA)\n",
    "df<-rbind(df,summary(z)$conf.int)\n",
    "\n",
    "z<-crr(resbio_VTE$stop,resbio_VTE$CAT_DEATH_ENDPT,resbio_VTE$X.ctDNA)\n",
    "df<-rbind(df,summary(z)$conf.int)\n",
    "\n",
    "z<-crr(sydney$stop,sydney$CAT_DEATH_ENDPT,sydney$X.ctDNA)\n",
    "df<-rbind(df,summary(z)$conf.int)\n",
    "\n",
    "print(df)\n",
    "write.csv(df, \"Routputs/validation_ctDNA_CAT.csv\", row.names=TRUE)"
   ]
  },
  {
   "cell_type": "code",
   "execution_count": 104,
   "id": "5274ca1d-1f85-477f-a41c-9abee11cf578",
   "metadata": {},
   "outputs": [
    {
     "name": "stdout",
     "output_type": "stream",
     "text": [
      "convergence:  TRUE \n",
      "coefficients:\n",
      "          previous.aspirin                   lt_start \n",
      "                -1.099e-01                 -9.738e-05 \n",
      "                       AGE Non.Small.Cell.Lung.Cancer \n",
      "                -9.461e-06                  6.806e-01 \n",
      "             Breast.Cancer          Pancreatic.Cancer \n",
      "                -2.182e-01                  7.953e-01 \n",
      "                  Melanoma            Prostate.Cancer \n",
      "                -1.388e-01                  2.306e-01 \n",
      "            Bladder.Cancer     Esophagogastric.Cancer \n",
      "                 4.318e-01                  2.209e-01 \n",
      "      Hepatobiliary.Cancer          Colorectal.Cancer \n",
      "                 3.791e-01                 -8.943e-01 \n",
      "standard errors:\n",
      " [1] 1.370e-01 5.032e-05 3.570e-03 2.224e-01 2.729e-01 2.611e-01 4.532e-01\n",
      " [8] 3.275e-01 3.077e-01 3.548e-01 3.327e-01 7.217e-01\n",
      "two-sided p-values:\n",
      "          previous.aspirin                   lt_start \n",
      "                    0.4200                     0.0530 \n",
      "                       AGE Non.Small.Cell.Lung.Cancer \n",
      "                    1.0000                     0.0022 \n",
      "             Breast.Cancer          Pancreatic.Cancer \n",
      "                    0.4200                     0.0023 \n",
      "                  Melanoma            Prostate.Cancer \n",
      "                    0.7600                     0.4800 \n",
      "            Bladder.Cancer     Esophagogastric.Cancer \n",
      "                    0.1600                     0.5300 \n",
      "      Hepatobiliary.Cancer          Colorectal.Cancer \n",
      "                    0.2500                     0.2200 \n"
     ]
    },
    {
     "data": {
      "text/html": [
       "<table class=\"dataframe\">\n",
       "<caption>A matrix: 12 × 4 of type dbl</caption>\n",
       "<thead>\n",
       "\t<tr><th></th><th scope=col>exp(coef)</th><th scope=col>exp(-coef)</th><th scope=col>2.5%</th><th scope=col>97.5%</th></tr>\n",
       "</thead>\n",
       "<tbody>\n",
       "\t<tr><th scope=row>previous.aspirin</th><td>0.8959211</td><td>1.1161697</td><td>0.68495211</td><td>1.171870</td></tr>\n",
       "\t<tr><th scope=row>lt_start</th><td>0.9999026</td><td>1.0000974</td><td>0.99980401</td><td>1.000001</td></tr>\n",
       "\t<tr><th scope=row>AGE</th><td>0.9999905</td><td>1.0000095</td><td>0.99301794</td><td>1.007012</td></tr>\n",
       "\t<tr><th scope=row>Non.Small.Cell.Lung.Cancer</th><td>1.9751296</td><td>0.5062959</td><td>1.27725510</td><td>3.054313</td></tr>\n",
       "\t<tr><th scope=row>Breast.Cancer</th><td>0.8039293</td><td>1.2438904</td><td>0.47089611</td><td>1.372495</td></tr>\n",
       "\t<tr><th scope=row>Pancreatic.Cancer</th><td>2.2151241</td><td>0.4514420</td><td>1.32791713</td><td>3.695091</td></tr>\n",
       "\t<tr><th scope=row>Melanoma</th><td>0.8704042</td><td>1.1488915</td><td>0.35807745</td><td>2.115753</td></tr>\n",
       "\t<tr><th scope=row>Prostate.Cancer</th><td>1.2593183</td><td>0.7940804</td><td>0.66272215</td><td>2.392983</td></tr>\n",
       "\t<tr><th scope=row>Bladder.Cancer</th><td>1.5400020</td><td>0.6493498</td><td>0.84249636</td><td>2.814975</td></tr>\n",
       "\t<tr><th scope=row>Esophagogastric.Cancer</th><td>1.2472554</td><td>0.8017604</td><td>0.62218422</td><td>2.500298</td></tr>\n",
       "\t<tr><th scope=row>Hepatobiliary.Cancer</th><td>1.4609722</td><td>0.6844757</td><td>0.76108443</td><td>2.804472</td></tr>\n",
       "\t<tr><th scope=row>Colorectal.Cancer</th><td>0.4089023</td><td>2.4455718</td><td>0.09938201</td><td>1.682408</td></tr>\n",
       "</tbody>\n",
       "</table>\n"
      ],
      "text/latex": [
       "A matrix: 12 × 4 of type dbl\n",
       "\\begin{tabular}{r|llll}\n",
       "  & exp(coef) & exp(-coef) & 2.5\\% & 97.5\\%\\\\\n",
       "\\hline\n",
       "\tprevious.aspirin & 0.8959211 & 1.1161697 & 0.68495211 & 1.171870\\\\\n",
       "\tlt\\_start & 0.9999026 & 1.0000974 & 0.99980401 & 1.000001\\\\\n",
       "\tAGE & 0.9999905 & 1.0000095 & 0.99301794 & 1.007012\\\\\n",
       "\tNon.Small.Cell.Lung.Cancer & 1.9751296 & 0.5062959 & 1.27725510 & 3.054313\\\\\n",
       "\tBreast.Cancer & 0.8039293 & 1.2438904 & 0.47089611 & 1.372495\\\\\n",
       "\tPancreatic.Cancer & 2.2151241 & 0.4514420 & 1.32791713 & 3.695091\\\\\n",
       "\tMelanoma & 0.8704042 & 1.1488915 & 0.35807745 & 2.115753\\\\\n",
       "\tProstate.Cancer & 1.2593183 & 0.7940804 & 0.66272215 & 2.392983\\\\\n",
       "\tBladder.Cancer & 1.5400020 & 0.6493498 & 0.84249636 & 2.814975\\\\\n",
       "\tEsophagogastric.Cancer & 1.2472554 & 0.8017604 & 0.62218422 & 2.500298\\\\\n",
       "\tHepatobiliary.Cancer & 1.4609722 & 0.6844757 & 0.76108443 & 2.804472\\\\\n",
       "\tColorectal.Cancer & 0.4089023 & 2.4455718 & 0.09938201 & 1.682408\\\\\n",
       "\\end{tabular}\n"
      ],
      "text/markdown": [
       "\n",
       "A matrix: 12 × 4 of type dbl\n",
       "\n",
       "| <!--/--> | exp(coef) | exp(-coef) | 2.5% | 97.5% |\n",
       "|---|---|---|---|---|\n",
       "| previous.aspirin | 0.8959211 | 1.1161697 | 0.68495211 | 1.171870 |\n",
       "| lt_start | 0.9999026 | 1.0000974 | 0.99980401 | 1.000001 |\n",
       "| AGE | 0.9999905 | 1.0000095 | 0.99301794 | 1.007012 |\n",
       "| Non.Small.Cell.Lung.Cancer | 1.9751296 | 0.5062959 | 1.27725510 | 3.054313 |\n",
       "| Breast.Cancer | 0.8039293 | 1.2438904 | 0.47089611 | 1.372495 |\n",
       "| Pancreatic.Cancer | 2.2151241 | 0.4514420 | 1.32791713 | 3.695091 |\n",
       "| Melanoma | 0.8704042 | 1.1488915 | 0.35807745 | 2.115753 |\n",
       "| Prostate.Cancer | 1.2593183 | 0.7940804 | 0.66272215 | 2.392983 |\n",
       "| Bladder.Cancer | 1.5400020 | 0.6493498 | 0.84249636 | 2.814975 |\n",
       "| Esophagogastric.Cancer | 1.2472554 | 0.8017604 | 0.62218422 | 2.500298 |\n",
       "| Hepatobiliary.Cancer | 1.4609722 | 0.6844757 | 0.76108443 | 2.804472 |\n",
       "| Colorectal.Cancer | 0.4089023 | 2.4455718 | 0.09938201 | 1.682408 |\n",
       "\n"
      ],
      "text/plain": [
       "                           exp(coef) exp(-coef) 2.5%       97.5%   \n",
       "previous.aspirin           0.8959211 1.1161697  0.68495211 1.171870\n",
       "lt_start                   0.9999026 1.0000974  0.99980401 1.000001\n",
       "AGE                        0.9999905 1.0000095  0.99301794 1.007012\n",
       "Non.Small.Cell.Lung.Cancer 1.9751296 0.5062959  1.27725510 3.054313\n",
       "Breast.Cancer              0.8039293 1.2438904  0.47089611 1.372495\n",
       "Pancreatic.Cancer          2.2151241 0.4514420  1.32791713 3.695091\n",
       "Melanoma                   0.8704042 1.1488915  0.35807745 2.115753\n",
       "Prostate.Cancer            1.2593183 0.7940804  0.66272215 2.392983\n",
       "Bladder.Cancer             1.5400020 0.6493498  0.84249636 2.814975\n",
       "Esophagogastric.Cancer     1.2472554 0.8017604  0.62218422 2.500298\n",
       "Hepatobiliary.Cancer       1.4609722 0.6844757  0.76108443 2.804472\n",
       "Colorectal.Cancer          0.4089023 2.4455718  0.09938201 1.682408"
      ]
     },
     "metadata": {},
     "output_type": "display_data"
    }
   ],
   "source": [
    "cois <- list(\"Non.Small.Cell.Lung.Cancer\", \"Breast.Cancer\", \"Pancreatic.Cancer\",\n",
    "            \"Melanoma\", \"Prostate.Cancer\", \"Bladder.Cancer\",\n",
    "            \"Esophagogastric.Cancer\", \"Hepatobiliary.Cancer\", \"Colorectal.Cancer\")\n",
    "temp<-vte[c(unlist(vte$X.ctDNA)),]\n",
    "print(z<-crr(temp$stop,temp$CAT_DEATH_ENDPT,\n",
    "             temp[c(\"previous.aspirin\",\n",
    "                   \"lt_start\",\"AGE\",unlist(cois))]))\n",
    "summary(z)$conf.int"
   ]
  },
  {
   "cell_type": "markdown",
   "id": "2f483468-38e8-42af-85a6-ee562dc46335",
   "metadata": {},
   "source": [
    "# RSF risk scores for dynamic AUC"
   ]
  },
  {
   "cell_type": "code",
   "execution_count": 6,
   "id": "969528f8-728e-491c-ac2f-04b7883e3c6e",
   "metadata": {},
   "outputs": [],
   "source": [
    "vte2 <- read.csv(\"data/vte2_main_wriskscores.csv\", header=TRUE)\n",
    "vte2$CAT_DEATH_ENDPT[vte2$CAT_DEATH_ENDPT=='False'] <- 0\n",
    "vte2$CAT_DEATH_ENDPT[vte2$CAT_DEATH_ENDPT=='True'] <- 1\n",
    "vte2$CAT_DEATH_ENDPT[vte2$CAT_DEATH_ENDPT=='2'] <- 2\n",
    "logical_columns <- sapply(vte2, function(x) all(x %in% c(\"True\", \"False\")))\n",
    "vte2 <- vte2 %>%\n",
    "  mutate_at(vars(names(logical_columns)[logical_columns]), ~ ifelse(. == \"True\", TRUE, FALSE))"
   ]
  },
  {
   "cell_type": "code",
   "execution_count": 17,
   "id": "336586f1-2e05-4927-a3c8-dccd4ecf9e22",
   "metadata": {},
   "outputs": [],
   "source": [
    "for (c in list(\"Khorana.Score\",\"LB.\",\"All\")){\n",
    "\n",
    "    ROC.1 = survivalROC(Stime = vte2$stop, status = vte2$CAT_DEATH_ENDPT==1, \n",
    "                        marker = vte2[c], predict.time = 180, lambda = 0.05)\n",
    "\n",
    "    write.csv(ROC.1, file = paste('rsf_scores/vte2_',c,'_dROC.csv'))\n",
    "}"
   ]
  }
 ],
 "metadata": {
  "kernelspec": {
   "display_name": "R",
   "language": "R",
   "name": "ir"
  },
  "language_info": {
   "codemirror_mode": "r",
   "file_extension": ".r",
   "mimetype": "text/x-r-source",
   "name": "R",
   "pygments_lexer": "r",
   "version": "4.2.2"
  }
 },
 "nbformat": 4,
 "nbformat_minor": 5
}
