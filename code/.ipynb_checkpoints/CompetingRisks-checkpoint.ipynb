{
 "cells": [
  {
   "cell_type": "code",
   "execution_count": 16,
   "id": "e015df13-1890-45a2-8c59-8efe40de554f",
   "metadata": {},
   "outputs": [
    {
     "name": "stderr",
     "output_type": "stream",
     "text": [
      "also installing the dependencies 'progress', 'cli', 'cpp11', 'hms', 'vroom', 'tzdb', 'purrr', 'stringr', 'downloader', 'igraph', 'readr', 'tidyr', 'visNetwork', 'data.tree', 'DiagrammeR'\n",
      "\n",
      "\n"
     ]
    }
   ],
   "source": [
    "# Install and load the required packages if not already installed\n",
    "if (!requireNamespace(\"survival\", quietly = TRUE)) {\n",
    "  install.packages(\"survival\",lib='/mind_data/jeej/Rlib') # replace with Rlib location\n",
    "}\n",
    "\n",
    "if (!requireNamespace(\"cmprsk\", quietly = TRUE)) {\n",
    "  install.packages(\"cmprsk\",lib='/mind_data/jeej/Rlib')\n",
    "}\n",
    "\n",
    "if (!requireNamespace(\"survivalROC\", quietly = TRUE)) {\n",
    "  install.packages(\"survivalROC\",lib='/mind_data/jeej/Rlib')\n",
    "}"
   ]
  },
  {
   "cell_type": "markdown",
   "id": "d12d437e-4b78-40a0-aaf2-87a8ba8f850f",
   "metadata": {
    "jp-MarkdownHeadingCollapsed": true,
    "tags": []
   },
   "source": [
    "# Fine Gray analyses"
   ]
  },
  {
   "cell_type": "code",
   "execution_count": 1,
   "id": "3015fb1c-5101-446f-b4cf-c598ac7d1b66",
   "metadata": {},
   "outputs": [
    {
     "name": "stderr",
     "output_type": "stream",
     "text": [
      "Loading required package: survival\n",
      "\n",
      "\n",
      "Attaching package: 'dplyr'\n",
      "\n",
      "\n",
      "The following objects are masked from 'package:data.table':\n",
      "\n",
      "    between, first, last\n",
      "\n",
      "\n",
      "The following objects are masked from 'package:stats':\n",
      "\n",
      "    filter, lag\n",
      "\n",
      "\n",
      "The following objects are masked from 'package:base':\n",
      "\n",
      "    intersect, setdiff, setequal, union\n",
      "\n",
      "\n"
     ]
    }
   ],
   "source": [
    "library(cmprsk,lib.loc='/mind_data/jeej/Rlib') # replace with Rlib location\n",
    "library(data.table)\n",
    "library(dplyr)\n",
    "library(survivalROC,lib.loc='/mind_data/jeej/Rlib')"
   ]
  },
  {
   "cell_type": "code",
   "execution_count": 6,
   "id": "616eaa49-9167-4810-8a66-29533302fb05",
   "metadata": {},
   "outputs": [],
   "source": [
    "# load primary data\n",
    "\n",
    "# discovery cohort (MSK-ACCESS)\n",
    "vte <- read.csv(\"../data/discovery.csv\", header=TRUE)\n",
    "logical_columns <- sapply(vte, function(x) all(x %in% c(\"True\", \"False\")))\n",
    "vte <- vte %>%\n",
    "  mutate_at(vars(names(logical_columns)[logical_columns]), ~ ifelse(. == \"True\", TRUE, FALSE))\n",
    "        \n",
    "# validation cohort (MSK-ACCESS)\n",
    "vte2 <- read.csv(\"../data/validation.csv\", header=TRUE)\n",
    "logical_columns <- sapply(vte2, function(x) all(x %in% c(\"True\", \"False\")))\n",
    "vte2 <- vte2 %>%\n",
    "  mutate_at(vars(names(logical_columns)[logical_columns]), ~ ifelse(. == \"True\", TRUE, FALSE))\n",
    "\n",
    "# resbio = ctDx generalizability cohort\n",
    "resbio_VTE <- read.csv('../data/generalizability_msk.csv', header=TRUE)\n",
    "logical_columns <- sapply(resbio_VTE, function(x) all(x %in% c(\"True\", \"False\")))\n",
    "resbio_VTE <- resbio_VTE %>%\n",
    "  mutate_at(vars(names(logical_columns)[logical_columns]), ~ ifelse(. == \"True\", TRUE, FALSE))\n",
    "                          \n",
    "sydney <- read.csv('../data/generalizability_sydney.csv', header=TRUE)\n",
    "logical_columns <- sapply(sydney, function(x) all(x %in% c(\"True\", \"False\")))\n",
    "sydney <- sydney %>%\n",
    "  mutate_at(vars(names(logical_columns)[logical_columns]), ~ ifelse(. == \"True\", TRUE, FALSE))\n",
    "                          \n",
    "resbio_all <- rbindlist(list(resbio_VTE, sydney),fill=TRUE)"
   ]
  },
  {
   "cell_type": "code",
   "execution_count": 6,
   "id": "f3131115-1334-442b-8297-25928e1e80d5",
   "metadata": {},
   "outputs": [
    {
     "name": "stdout",
     "output_type": "stream",
     "text": [
      "convergence:  TRUE \n",
      "coefficients:\n",
      "vte$X.ctDNA1 \n",
      "      0.9105 \n",
      "standard errors:\n",
      "[1] 0.1136\n",
      "two-sided p-values:\n",
      "vte$X.ctDNA1 \n",
      "     1.1e-15 \n"
     ]
    },
    {
     "data": {
      "text/html": [
       "<table class=\"dataframe\">\n",
       "<caption>A matrix: 1 × 4 of type dbl</caption>\n",
       "<thead>\n",
       "\t<tr><th></th><th scope=col>exp(coef)</th><th scope=col>exp(-coef)</th><th scope=col>2.5%</th><th scope=col>97.5%</th></tr>\n",
       "</thead>\n",
       "<tbody>\n",
       "\t<tr><th scope=row>vte$X.ctDNA1</th><td>2.485543</td><td>0.4023265</td><td>1.98942</td><td>3.105391</td></tr>\n",
       "</tbody>\n",
       "</table>\n"
      ],
      "text/latex": [
       "A matrix: 1 × 4 of type dbl\n",
       "\\begin{tabular}{r|llll}\n",
       "  & exp(coef) & exp(-coef) & 2.5\\% & 97.5\\%\\\\\n",
       "\\hline\n",
       "\tvte\\$X.ctDNA1 & 2.485543 & 0.4023265 & 1.98942 & 3.105391\\\\\n",
       "\\end{tabular}\n"
      ],
      "text/markdown": [
       "\n",
       "A matrix: 1 × 4 of type dbl\n",
       "\n",
       "| <!--/--> | exp(coef) | exp(-coef) | 2.5% | 97.5% |\n",
       "|---|---|---|---|---|\n",
       "| vte$X.ctDNA1 | 2.485543 | 0.4023265 | 1.98942 | 3.105391 |\n",
       "\n"
      ],
      "text/plain": [
       "             exp(coef) exp(-coef) 2.5%    97.5%   \n",
       "vte$X.ctDNA1 2.485543  0.4023265  1.98942 3.105391"
      ]
     },
     "metadata": {},
     "output_type": "display_data"
    }
   ],
   "source": [
    "# example testing association of ctDNA with VTE in the discovery cohort using competing risks\n",
    "print(z<-crr(vte$stop,vte$CAT_DEATH_ENDPT,vte$X.ctDNA))\n",
    "summary(z)$conf.int"
   ]
  },
  {
   "cell_type": "code",
   "execution_count": 7,
   "id": "b687606e-4b23-433e-9306-cae5dc7c5030",
   "metadata": {},
   "outputs": [
    {
     "name": "stdout",
     "output_type": "stream",
     "text": [
      "convergence:  TRUE \n",
      "coefficients:\n",
      "resbio_all[resbio_all$stop > 180, ]$X.ctDNA1 \n",
      "                                      0.4832 \n",
      "standard errors:\n",
      "[1] 0.3461\n",
      "two-sided p-values:\n",
      "resbio_all[resbio_all$stop > 180, ]$X.ctDNA1 \n",
      "                                        0.16 \n"
     ]
    },
    {
     "data": {
      "text/html": [
       "<table class=\"dataframe\">\n",
       "<caption>A matrix: 1 × 4 of type dbl</caption>\n",
       "<thead>\n",
       "\t<tr><th></th><th scope=col>exp(coef)</th><th scope=col>exp(-coef)</th><th scope=col>2.5%</th><th scope=col>97.5%</th></tr>\n",
       "</thead>\n",
       "<tbody>\n",
       "\t<tr><th scope=row>resbio_all[resbio_all$stop &gt; 180, ]$X.ctDNA1</th><td>1.621246</td><td>0.6168097</td><td>0.8227671</td><td>3.194631</td></tr>\n",
       "</tbody>\n",
       "</table>\n"
      ],
      "text/latex": [
       "A matrix: 1 × 4 of type dbl\n",
       "\\begin{tabular}{r|llll}\n",
       "  & exp(coef) & exp(-coef) & 2.5\\% & 97.5\\%\\\\\n",
       "\\hline\n",
       "\tresbio\\_all{[}resbio\\_all\\$stop > 180, {]}\\$X.ctDNA1 & 1.621246 & 0.6168097 & 0.8227671 & 3.194631\\\\\n",
       "\\end{tabular}\n"
      ],
      "text/markdown": [
       "\n",
       "A matrix: 1 × 4 of type dbl\n",
       "\n",
       "| <!--/--> | exp(coef) | exp(-coef) | 2.5% | 97.5% |\n",
       "|---|---|---|---|---|\n",
       "| resbio_all[resbio_all$stop &gt; 180, ]$X.ctDNA1 | 1.621246 | 0.6168097 | 0.8227671 | 3.194631 |\n",
       "\n"
      ],
      "text/plain": [
       "                                             exp(coef) exp(-coef) 2.5%     \n",
       "resbio_all[resbio_all$stop > 180, ]$X.ctDNA1 1.621246  0.6168097  0.8227671\n",
       "                                             97.5%   \n",
       "resbio_all[resbio_all$stop > 180, ]$X.ctDNA1 3.194631"
      ]
     },
     "metadata": {},
     "output_type": "display_data"
    }
   ],
   "source": [
    "# example of >6mo analysis\n",
    "print(z<-crr(resbio_all[resbio_all$stop>180,]$stop,\n",
    "             resbio_all[resbio_all$stop>180,]$CAT_DEATH_ENDPT,\n",
    "             resbio_all[resbio_all$stop>180,]$X.ctDNA))\n",
    "summary(z)$conf.int"
   ]
  },
  {
   "cell_type": "code",
   "execution_count": 19,
   "id": "628dc517-67d7-48f0-827d-e0e44682b8b2",
   "metadata": {},
   "outputs": [
    {
     "data": {
      "text/html": [
       "<table class=\"dataframe\">\n",
       "<caption>A matrix: 5 × 4 of type dbl</caption>\n",
       "<thead>\n",
       "\t<tr><th></th><th scope=col>exp(coef)</th><th scope=col>exp(-coef)</th><th scope=col>2.5%</th><th scope=col>97.5%</th></tr>\n",
       "</thead>\n",
       "<tbody>\n",
       "\t<tr><th scope=row>X.ctDNA</th><td>1.655933</td><td>0.6038890</td><td>1.299020</td><td>2.110910</td></tr>\n",
       "\t<tr><th scope=row>KHORANA.SCORE</th><td>1.133262</td><td>0.8824081</td><td>1.033132</td><td>1.243098</td></tr>\n",
       "\t<tr><th scope=row>N.organ.sites</th><td>1.121745</td><td>0.8914684</td><td>1.065183</td><td>1.181310</td></tr>\n",
       "\t<tr><th scope=row>log10.cfDNA.concentration.</th><td>1.614733</td><td>0.6192973</td><td>1.358886</td><td>1.918751</td></tr>\n",
       "\t<tr><th scope=row>chemotherapy</th><td>1.705112</td><td>0.5864716</td><td>1.404400</td><td>2.070214</td></tr>\n",
       "</tbody>\n",
       "</table>\n"
      ],
      "text/latex": [
       "A matrix: 5 × 4 of type dbl\n",
       "\\begin{tabular}{r|llll}\n",
       "  & exp(coef) & exp(-coef) & 2.5\\% & 97.5\\%\\\\\n",
       "\\hline\n",
       "\tX.ctDNA & 1.655933 & 0.6038890 & 1.299020 & 2.110910\\\\\n",
       "\tKHORANA.SCORE & 1.133262 & 0.8824081 & 1.033132 & 1.243098\\\\\n",
       "\tN.organ.sites & 1.121745 & 0.8914684 & 1.065183 & 1.181310\\\\\n",
       "\tlog10.cfDNA.concentration. & 1.614733 & 0.6192973 & 1.358886 & 1.918751\\\\\n",
       "\tchemotherapy & 1.705112 & 0.5864716 & 1.404400 & 2.070214\\\\\n",
       "\\end{tabular}\n"
      ],
      "text/markdown": [
       "\n",
       "A matrix: 5 × 4 of type dbl\n",
       "\n",
       "| <!--/--> | exp(coef) | exp(-coef) | 2.5% | 97.5% |\n",
       "|---|---|---|---|---|\n",
       "| X.ctDNA | 1.655933 | 0.6038890 | 1.299020 | 2.110910 |\n",
       "| KHORANA.SCORE | 1.133262 | 0.8824081 | 1.033132 | 1.243098 |\n",
       "| N.organ.sites | 1.121745 | 0.8914684 | 1.065183 | 1.181310 |\n",
       "| log10.cfDNA.concentration. | 1.614733 | 0.6192973 | 1.358886 | 1.918751 |\n",
       "| chemotherapy | 1.705112 | 0.5864716 | 1.404400 | 2.070214 |\n",
       "\n"
      ],
      "text/plain": [
       "                           exp(coef) exp(-coef) 2.5%     97.5%   \n",
       "X.ctDNA                    1.655933  0.6038890  1.299020 2.110910\n",
       "KHORANA.SCORE              1.133262  0.8824081  1.033132 1.243098\n",
       "N.organ.sites              1.121745  0.8914684  1.065183 1.181310\n",
       "log10.cfDNA.concentration. 1.614733  0.6192973  1.358886 1.918751\n",
       "chemotherapy               1.705112  0.5864716  1.404400 2.070214"
      ]
     },
     "metadata": {},
     "output_type": "display_data"
    }
   ],
   "source": [
    "# example multivariate analysis\n",
    "z<-crr(vte$stop,vte$CAT_DEATH_ENDPT,vte[c(\"X.ctDNA\",\n",
    "                  \"KHORANA.SCORE\",\"N.organ.sites\",\"log10.cfDNA.concentration.\",\"chemotherapy\")])\n",
    "summary(z)$conf.int\n",
    "write.csv(summary(z)$conf.int, \"multivariate_HR_example.csv\", row.names=TRUE)"
   ]
  },
  {
   "cell_type": "code",
   "execution_count": 18,
   "id": "5274ca1d-1f85-477f-a41c-9abee11cf578",
   "metadata": {},
   "outputs": [
    {
     "data": {
      "text/html": [
       "<table class=\"dataframe\">\n",
       "<caption>A matrix: 12 × 4 of type dbl</caption>\n",
       "<thead>\n",
       "\t<tr><th></th><th scope=col>exp(coef)</th><th scope=col>exp(-coef)</th><th scope=col>2.5%</th><th scope=col>97.5%</th></tr>\n",
       "</thead>\n",
       "<tbody>\n",
       "\t<tr><th scope=row>previous.enoxaparin.dalteparin.xaban.warfarin.fondaparinux.dabigatran</th><td>0.4948420</td><td>2.0208469</td><td>0.30281598</td><td>0.8086384</td></tr>\n",
       "\t<tr><th scope=row>lt_start</th><td>0.9999016</td><td>1.0000984</td><td>0.99980298</td><td>1.0000003</td></tr>\n",
       "\t<tr><th scope=row>AGE</th><td>1.0005251</td><td>0.9994752</td><td>0.99362410</td><td>1.0074740</td></tr>\n",
       "\t<tr><th scope=row>Non.Small.Cell.Lung.Cancer</th><td>1.9419929</td><td>0.5149349</td><td>1.25621990</td><td>3.0021307</td></tr>\n",
       "\t<tr><th scope=row>Breast.Cancer</th><td>0.7935780</td><td>1.2601156</td><td>0.46466741</td><td>1.3553048</td></tr>\n",
       "\t<tr><th scope=row>Pancreatic.Cancer</th><td>2.2059238</td><td>0.4533248</td><td>1.32354923</td><td>3.6765538</td></tr>\n",
       "\t<tr><th scope=row>Melanoma</th><td>0.8495063</td><td>1.1771542</td><td>0.35081042</td><td>2.0571254</td></tr>\n",
       "\t<tr><th scope=row>Prostate.Cancer</th><td>1.2199999</td><td>0.8196722</td><td>0.64236218</td><td>2.3170724</td></tr>\n",
       "\t<tr><th scope=row>Bladder.Cancer</th><td>1.5133203</td><td>0.6607986</td><td>0.83180179</td><td>2.7532261</td></tr>\n",
       "\t<tr><th scope=row>Esophagogastric.Cancer</th><td>1.2020071</td><td>0.8319419</td><td>0.59983356</td><td>2.4087032</td></tr>\n",
       "\t<tr><th scope=row>Hepatobiliary.Cancer</th><td>1.5336185</td><td>0.6520527</td><td>0.79933046</td><td>2.9424447</td></tr>\n",
       "\t<tr><th scope=row>Colorectal.Cancer</th><td>0.3985407</td><td>2.5091543</td><td>0.09728006</td><td>1.6327566</td></tr>\n",
       "</tbody>\n",
       "</table>\n"
      ],
      "text/latex": [
       "A matrix: 12 × 4 of type dbl\n",
       "\\begin{tabular}{r|llll}\n",
       "  & exp(coef) & exp(-coef) & 2.5\\% & 97.5\\%\\\\\n",
       "\\hline\n",
       "\tprevious.enoxaparin.dalteparin.xaban.warfarin.fondaparinux.dabigatran & 0.4948420 & 2.0208469 & 0.30281598 & 0.8086384\\\\\n",
       "\tlt\\_start & 0.9999016 & 1.0000984 & 0.99980298 & 1.0000003\\\\\n",
       "\tAGE & 1.0005251 & 0.9994752 & 0.99362410 & 1.0074740\\\\\n",
       "\tNon.Small.Cell.Lung.Cancer & 1.9419929 & 0.5149349 & 1.25621990 & 3.0021307\\\\\n",
       "\tBreast.Cancer & 0.7935780 & 1.2601156 & 0.46466741 & 1.3553048\\\\\n",
       "\tPancreatic.Cancer & 2.2059238 & 0.4533248 & 1.32354923 & 3.6765538\\\\\n",
       "\tMelanoma & 0.8495063 & 1.1771542 & 0.35081042 & 2.0571254\\\\\n",
       "\tProstate.Cancer & 1.2199999 & 0.8196722 & 0.64236218 & 2.3170724\\\\\n",
       "\tBladder.Cancer & 1.5133203 & 0.6607986 & 0.83180179 & 2.7532261\\\\\n",
       "\tEsophagogastric.Cancer & 1.2020071 & 0.8319419 & 0.59983356 & 2.4087032\\\\\n",
       "\tHepatobiliary.Cancer & 1.5336185 & 0.6520527 & 0.79933046 & 2.9424447\\\\\n",
       "\tColorectal.Cancer & 0.3985407 & 2.5091543 & 0.09728006 & 1.6327566\\\\\n",
       "\\end{tabular}\n"
      ],
      "text/markdown": [
       "\n",
       "A matrix: 12 × 4 of type dbl\n",
       "\n",
       "| <!--/--> | exp(coef) | exp(-coef) | 2.5% | 97.5% |\n",
       "|---|---|---|---|---|\n",
       "| previous.enoxaparin.dalteparin.xaban.warfarin.fondaparinux.dabigatran | 0.4948420 | 2.0208469 | 0.30281598 | 0.8086384 |\n",
       "| lt_start | 0.9999016 | 1.0000984 | 0.99980298 | 1.0000003 |\n",
       "| AGE | 1.0005251 | 0.9994752 | 0.99362410 | 1.0074740 |\n",
       "| Non.Small.Cell.Lung.Cancer | 1.9419929 | 0.5149349 | 1.25621990 | 3.0021307 |\n",
       "| Breast.Cancer | 0.7935780 | 1.2601156 | 0.46466741 | 1.3553048 |\n",
       "| Pancreatic.Cancer | 2.2059238 | 0.4533248 | 1.32354923 | 3.6765538 |\n",
       "| Melanoma | 0.8495063 | 1.1771542 | 0.35081042 | 2.0571254 |\n",
       "| Prostate.Cancer | 1.2199999 | 0.8196722 | 0.64236218 | 2.3170724 |\n",
       "| Bladder.Cancer | 1.5133203 | 0.6607986 | 0.83180179 | 2.7532261 |\n",
       "| Esophagogastric.Cancer | 1.2020071 | 0.8319419 | 0.59983356 | 2.4087032 |\n",
       "| Hepatobiliary.Cancer | 1.5336185 | 0.6520527 | 0.79933046 | 2.9424447 |\n",
       "| Colorectal.Cancer | 0.3985407 | 2.5091543 | 0.09728006 | 1.6327566 |\n",
       "\n"
      ],
      "text/plain": [
       "                                                                      exp(coef)\n",
       "previous.enoxaparin.dalteparin.xaban.warfarin.fondaparinux.dabigatran 0.4948420\n",
       "lt_start                                                              0.9999016\n",
       "AGE                                                                   1.0005251\n",
       "Non.Small.Cell.Lung.Cancer                                            1.9419929\n",
       "Breast.Cancer                                                         0.7935780\n",
       "Pancreatic.Cancer                                                     2.2059238\n",
       "Melanoma                                                              0.8495063\n",
       "Prostate.Cancer                                                       1.2199999\n",
       "Bladder.Cancer                                                        1.5133203\n",
       "Esophagogastric.Cancer                                                1.2020071\n",
       "Hepatobiliary.Cancer                                                  1.5336185\n",
       "Colorectal.Cancer                                                     0.3985407\n",
       "                                                                      exp(-coef)\n",
       "previous.enoxaparin.dalteparin.xaban.warfarin.fondaparinux.dabigatran 2.0208469 \n",
       "lt_start                                                              1.0000984 \n",
       "AGE                                                                   0.9994752 \n",
       "Non.Small.Cell.Lung.Cancer                                            0.5149349 \n",
       "Breast.Cancer                                                         1.2601156 \n",
       "Pancreatic.Cancer                                                     0.4533248 \n",
       "Melanoma                                                              1.1771542 \n",
       "Prostate.Cancer                                                       0.8196722 \n",
       "Bladder.Cancer                                                        0.6607986 \n",
       "Esophagogastric.Cancer                                                0.8319419 \n",
       "Hepatobiliary.Cancer                                                  0.6520527 \n",
       "Colorectal.Cancer                                                     2.5091543 \n",
       "                                                                      2.5%      \n",
       "previous.enoxaparin.dalteparin.xaban.warfarin.fondaparinux.dabigatran 0.30281598\n",
       "lt_start                                                              0.99980298\n",
       "AGE                                                                   0.99362410\n",
       "Non.Small.Cell.Lung.Cancer                                            1.25621990\n",
       "Breast.Cancer                                                         0.46466741\n",
       "Pancreatic.Cancer                                                     1.32354923\n",
       "Melanoma                                                              0.35081042\n",
       "Prostate.Cancer                                                       0.64236218\n",
       "Bladder.Cancer                                                        0.83180179\n",
       "Esophagogastric.Cancer                                                0.59983356\n",
       "Hepatobiliary.Cancer                                                  0.79933046\n",
       "Colorectal.Cancer                                                     0.09728006\n",
       "                                                                      97.5%    \n",
       "previous.enoxaparin.dalteparin.xaban.warfarin.fondaparinux.dabigatran 0.8086384\n",
       "lt_start                                                              1.0000003\n",
       "AGE                                                                   1.0074740\n",
       "Non.Small.Cell.Lung.Cancer                                            3.0021307\n",
       "Breast.Cancer                                                         1.3553048\n",
       "Pancreatic.Cancer                                                     3.6765538\n",
       "Melanoma                                                              2.0571254\n",
       "Prostate.Cancer                                                       2.3170724\n",
       "Bladder.Cancer                                                        2.7532261\n",
       "Esophagogastric.Cancer                                                2.4087032\n",
       "Hepatobiliary.Cancer                                                  2.9424447\n",
       "Colorectal.Cancer                                                     1.6327566"
      ]
     },
     "metadata": {},
     "output_type": "display_data"
    }
   ],
   "source": [
    "# example testing whether anticoagulation is associated with VTE in ctDNA+ patients\n",
    "cois <- list(\"Non.Small.Cell.Lung.Cancer\", \"Breast.Cancer\", \"Pancreatic.Cancer\",\n",
    "            \"Melanoma\", \"Prostate.Cancer\", \"Bladder.Cancer\",\n",
    "            \"Esophagogastric.Cancer\", \"Hepatobiliary.Cancer\", \"Colorectal.Cancer\")\n",
    "temp<-vte[c(unlist(vte$X.ctDNA)),]\n",
    "z<-crr(temp$stop,temp$CAT_DEATH_ENDPT,\n",
    "             temp[c(\"previous.enoxaparin.dalteparin.xaban.warfarin.fondaparinux.dabigatran\",\n",
    "                   \"lt_start\",\"AGE\",unlist(cois))])\n",
    "summary(z)$conf.int"
   ]
  },
  {
   "cell_type": "markdown",
   "id": "2f483468-38e8-42af-85a6-ee562dc46335",
   "metadata": {
    "tags": []
   },
   "source": [
    "# RSF risk scores for dynamic AUC"
   ]
  },
  {
   "cell_type": "code",
   "execution_count": 14,
   "id": "336586f1-2e05-4927-a3c8-dccd4ecf9e22",
   "metadata": {},
   "outputs": [],
   "source": [
    "# note requires risk score output to run (from run_rsf_vte.py)\n",
    "\n",
    "# load validation dataset if not done yet\n",
    "vte2 <- read.csv(\"../data/validation.csv\", header=TRUE)\n",
    "logical_columns <- sapply(vte2, function(x) all(x %in% c(\"True\", \"False\")))\n",
    "vte2 <- vte2 %>%\n",
    "  mutate_at(vars(names(logical_columns)[logical_columns]), ~ ifelse(. == \"True\", TRUE, FALSE))\n",
    "\n",
    "# load risk scores (from running run_rsf_vte.py)\n",
    "vte2_riskscore <- read.csv(\"vte_riskscores_validation.csv\", header=TRUE)\n",
    "\n",
    "# generate ROC values for the two models\n",
    "for (c in list(\"Khorana.Score.chemotherapy\",\"LB.\")){\n",
    "\n",
    "    ROC.1 = survivalROC(Stime = vte2$stop, status = vte2$CAT_DEATH_ENDPT==1, \n",
    "                        marker = vte2_riskscore[c], predict.time = 180, lambda = 0.05)\n",
    "\n",
    "    write.csv(ROC.1, file = paste('validation_',c,'_dROC.csv'))\n",
    "}"
   ]
  }
 ],
 "metadata": {
  "kernelspec": {
   "display_name": "R",
   "language": "R",
   "name": "ir"
  },
  "language_info": {
   "codemirror_mode": "r",
   "file_extension": ".r",
   "mimetype": "text/x-r-source",
   "name": "R",
   "pygments_lexer": "r",
   "version": "4.2.2"
  }
 },
 "nbformat": 4,
 "nbformat_minor": 5
}
